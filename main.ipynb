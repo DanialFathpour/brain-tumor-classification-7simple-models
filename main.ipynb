{
 "cells": [
  {
   "cell_type": "code",
   "execution_count": 1,
   "metadata": {},
   "outputs": [
    {
     "name": "stdout",
     "output_type": "stream",
     "text": [
      "Images successfully saved in tumor_classification\n"
     ]
    }
   ],
   "source": [
    "import os\n",
    "from scipy.io import loadmat\n",
    "import numpy as np\n",
    "import h5py\n",
    "from PIL import Image\n",
    "\n",
    "# Paths\n",
    "dataset_dir1 = 'brainTumorDataPublic_1-766'  # Directory containing .mat files\n",
    "dataset_dir2 = 'brainTumorDataPublic_767-1532'  # Directory containing .mat files\n",
    "dataset_dir3 = 'brainTumorDataPublic_1533-2298'  # Directory containing .mat files\n",
    "dataset_dir4 = 'brainTumorDataPublic_2299-3064'  # Directory containing .mat files\n",
    "output_dir = 'tumor_classification'  # Output directory for classified images\n",
    "\n",
    "dataset_dirs = [dataset_dir1,dataset_dir2,dataset_dir3,dataset_dir4]\n",
    "\n",
    "# Tumor labels and their corresponding directory names\n",
    "tumor_classes = {\n",
    "    1: \"meningioma\",\n",
    "    2: \"glioma\",\n",
    "    3: \"pituitary_tumor\"\n",
    "}\n",
    "\n",
    "# Create output directories if not exist\n",
    "for class_name in tumor_classes.values():\n",
    "    class_dir = os.path.join(output_dir, class_name)\n",
    "    os.makedirs(class_dir, exist_ok=True)\n",
    "\n",
    "# Process all .mat files\n",
    "counter = 0\n",
    "for dataset_dir in dataset_dirs:\n",
    "    for mat_file in os.listdir(dataset_dir):\n",
    "        if mat_file.endswith('.mat'):\n",
    "            filepath = os.path.join(dataset_dir, mat_file)\n",
    "            with h5py.File(filepath, 'r') as f:\n",
    "                cjdata = f['cjdata']\n",
    "                label = int(np.array(cjdata['label'])[0])\n",
    "                PID = ''.join(chr(i) for i in np.array(cjdata['PID']).flatten())\n",
    "                image = np.array(cjdata['image'])\n",
    "\n",
    "                # Normalize and save image\n",
    "                normalized_image = (image - np.min(image)) / (np.max(image) - np.min(image)) * 255\n",
    "                normalized_image = normalized_image.astype(np.uint8)\n",
    "                class_dir = os.path.join(output_dir, tumor_classes[label])\n",
    "                image_path = os.path.join(class_dir, f\"{PID}_{counter}.png\")\n",
    "                Image.fromarray(normalized_image).save(image_path)\n",
    "                counter += 1\n",
    "                \n",
    "print(f\"Images successfully saved in {output_dir}\")\n"
   ]
  }
 ],
 "metadata": {
  "kernelspec": {
   "display_name": "Python 3",
   "language": "python",
   "name": "python3"
  },
  "language_info": {
   "codemirror_mode": {
    "name": "ipython",
    "version": 3
   },
   "file_extension": ".py",
   "mimetype": "text/x-python",
   "name": "python",
   "nbconvert_exporter": "python",
   "pygments_lexer": "ipython3",
   "version": "3.8.3"
  }
 },
 "nbformat": 4,
 "nbformat_minor": 2
}
